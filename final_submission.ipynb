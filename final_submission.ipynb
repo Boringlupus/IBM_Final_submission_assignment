{
  "metadata": {
    "kernelspec": {
      "name": "python",
      "display_name": "Python (Pyodide)",
      "language": "python"
    },
    "language_info": {
      "codemirror_mode": {
        "name": "python",
        "version": 3
      },
      "file_extension": ".py",
      "mimetype": "text/x-python",
      "name": "python",
      "nbconvert_exporter": "python",
      "pygments_lexer": "ipython3",
      "version": "3.8"
    }
  },
  "nbformat_minor": 4,
  "nbformat": 4,
  "cells": [
    {
      "cell_type": "markdown",
      "source": "***Final Submission***",
      "metadata": {}
    },
    {
      "cell_type": "markdown",
      "source": "This notebook introduces core concepts in Data Science, including programming languages, libraries, and tools. It also demonstrates basic arithmetic operations and simple conversions to strengthen practical understanding",
      "metadata": {}
    },
    {
      "cell_type": "markdown",
      "source": "- Python\n- R\n- SQL\n- Julia\n- Scala",
      "metadata": {}
    },
    {
      "cell_type": "markdown",
      "source": "- Data Manipulation: Pandas, dplyr\n- Visualization: Matplotlib, ggplot2, Seaborn\n- Machine Learning: Scikit-learn, TensorFlow, PyTorch",
      "metadata": {}
    },
    {
      "cell_type": "markdown",
      "source": "**Tool** | **Category** | **Purpose**\n|------|--------|--------|\nJupyter Notebook | IDE | Interactive coding & documentation\nRStudio| IDE | Data analysis in R\nApache Spark | Big Data | Distributed computing",
      "metadata": {}
    },
    {
      "cell_type": "markdown",
      "source": "*In this section, we will explore simple arithmetic expressions such as addition, subtraction, multiplication, and division to illustrate how Python handles basic math*",
      "metadata": {}
    },
    {
      "cell_type": "code",
      "source": "a = 5\nb = 10\nresult = (a * b) + 20\nprint(result)",
      "metadata": {
        "trusted": true
      },
      "outputs": [
        {
          "name": "stdout",
          "text": "70\n",
          "output_type": "stream"
        }
      ],
      "execution_count": 3
    },
    {
      "cell_type": "code",
      "source": "minutes = 150\nhours = minutes / 60\nprint(f\"{hours}hours\")",
      "metadata": {
        "trusted": true
      },
      "outputs": [
        {
          "name": "stdout",
          "text": "2.5hours\n",
          "output_type": "stream"
        }
      ],
      "execution_count": 4
    },
    {
      "cell_type": "markdown",
      "source": "- Learn about key Data Science languages and libraries\n- Explore essential tools used by professionals\n- Practice arithmetic and basic coding skills in Python",
      "metadata": {}
    },
    {
      "cell_type": "markdown",
      "source": "Author: **Khushal Sharma**",
      "metadata": {}
    },
    {
      "cell_type": "code",
      "source": "",
      "metadata": {
        "trusted": true
      },
      "outputs": [],
      "execution_count": null
    },
    {
      "cell_type": "code",
      "source": "",
      "metadata": {
        "trusted": true
      },
      "outputs": [],
      "execution_count": null
    },
    {
      "cell_type": "code",
      "source": "",
      "metadata": {
        "trusted": true
      },
      "outputs": [],
      "execution_count": null
    },
    {
      "cell_type": "code",
      "source": "",
      "metadata": {
        "trusted": true
      },
      "outputs": [],
      "execution_count": null
    }
  ]
}